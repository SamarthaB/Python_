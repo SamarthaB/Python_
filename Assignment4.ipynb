{
 "cells": [
  {
   "cell_type": "markdown",
   "metadata": {},
   "source": [
    "# Day 4"
   ]
  },
  {
   "cell_type": "markdown",
   "metadata": {},
   "source": [
    "Find all occurence of substring in the given string\n",
    "and print Index Value"
   ]
  },
  {
   "cell_type": "code",
   "execution_count": 1,
   "metadata": {},
   "outputs": [
    {
     "name": "stdout",
     "output_type": "stream",
     "text": [
      "5\n",
      "14\n",
      "25\n"
     ]
    }
   ],
   "source": [
    "a=\"what we think we become; we are python programmer\"\n",
    "b=a.count(\"we\")\n",
    "n=len(a)\n",
    "c=0\n",
    "for i in range (0,b):\n",
    "    c=a.find(\"we\",c,n)\n",
    "    print(c)\n",
    "    c=c+1"
   ]
  },
  {
   "cell_type": "markdown",
   "metadata": {},
   "source": [
    "Explain using islower() , isupper()"
   ]
  },
  {
   "cell_type": "code",
   "execution_count": 2,
   "metadata": {},
   "outputs": [
    {
     "name": "stdout",
     "output_type": "stream",
     "text": [
      "p123\n",
      "String does not contain only alphabet\n"
     ]
    }
   ],
   "source": [
    "#islower() returns True if all the given alphabet is lower case\n",
    "#isupper() returns True if all the given alphabet is upper case\n",
    "str=input()\n",
    "if str.isalpha():\n",
    "    if str.islower():\n",
    "        print(\"String Lower Case : True\")\n",
    "    elif str.isupper():\n",
    "        print(\"String Upper Case : True\")\n",
    "    else:\n",
    "        print(\"String is mixed case\")\n",
    "else:\n",
    "    print(\"String does not contain only alphabet\")"
   ]
  },
  {
   "cell_type": "code",
   "execution_count": 3,
   "metadata": {},
   "outputs": [
    {
     "name": "stdout",
     "output_type": "stream",
     "text": [
      "power\n",
      "String Lower Case : True\n"
     ]
    }
   ],
   "source": [
    "#islower() returns True if all the given alphabet is lower case\n",
    "#isupper() returns True if all the given alphabet is upper case\n",
    "str=input()\n",
    "if str.isalpha():\n",
    "    if str.islower():\n",
    "        print(\"String Lower Case : True\")\n",
    "    elif str.isupper():\n",
    "        print(\"String Upper Case : True\")\n",
    "    else:\n",
    "        print(\"String is mixed case\")\n",
    "else:\n",
    "    print(\"String does not contain only alphabet\")"
   ]
  },
  {
   "cell_type": "code",
   "execution_count": 4,
   "metadata": {},
   "outputs": [
    {
     "name": "stdout",
     "output_type": "stream",
     "text": [
      "POWER\n",
      "String Upper Case : True\n"
     ]
    }
   ],
   "source": [
    "#islower() returns True if all the given alphabet is lower case\n",
    "#isupper() returns True if all the given alphabet is upper case\n",
    "str=input()\n",
    "if str.isalpha():\n",
    "    if str.islower():\n",
    "        print(\"String Lower Case : True\")\n",
    "    elif str.isupper():\n",
    "        print(\"String Upper Case : True\")\n",
    "    else:\n",
    "        print(\"String is mixed case\")\n",
    "else:\n",
    "    print(\"String does not contain only alphabet\")"
   ]
  },
  {
   "cell_type": "code",
   "execution_count": 5,
   "metadata": {},
   "outputs": [
    {
     "name": "stdout",
     "output_type": "stream",
     "text": [
      "Power\n",
      "String is mixed case\n"
     ]
    }
   ],
   "source": [
    "#islower() returns True if all the given alphabet is lower case\n",
    "#isupper() returns True if all the given alphabet is upper case\n",
    "str=input()\n",
    "if str.isalpha():\n",
    "    if str.islower():\n",
    "        print(\"String Lower Case : True\")\n",
    "    elif str.isupper():\n",
    "        print(\"String Upper Case : True\")\n",
    "    else:\n",
    "        print(\"String is mixed case\")\n",
    "else:\n",
    "    print(\"String does not contain only alphabet\")"
   ]
  }
 ],
 "metadata": {
  "kernelspec": {
   "display_name": "Python 3",
   "language": "python",
   "name": "python3"
  },
  "language_info": {
   "codemirror_mode": {
    "name": "ipython",
    "version": 3
   },
   "file_extension": ".py",
   "mimetype": "text/x-python",
   "name": "python",
   "nbconvert_exporter": "python",
   "pygments_lexer": "ipython3",
   "version": "3.7.6"
  }
 },
 "nbformat": 4,
 "nbformat_minor": 4
}
