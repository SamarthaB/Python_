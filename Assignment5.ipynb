{
 "cells": [
  {
   "cell_type": "markdown",
   "metadata": {},
   "source": [
    "# Day 5"
   ]
  },
  {
   "cell_type": "markdown",
   "metadata": {},
   "source": [
    "Assignment 1\n"
   ]
  },
  {
   "cell_type": "markdown",
   "metadata": {},
   "source": [
    "Sort increasing order but all zeros should be at right hand side"
   ]
  },
  {
   "cell_type": "code",
   "execution_count": 2,
   "metadata": {
    "scrolled": true
   },
   "outputs": [
    {
     "name": "stdout",
     "output_type": "stream",
     "text": [
      "[1, 1, 1, 2, 2, 3, 4, 4, 10, 56, 56, 0, 0, 0, 0, 0]\n"
     ]
    }
   ],
   "source": [
    "I=[0,1,2,10,4,1,0,56,2,0,1,3,0,56,0,4]\n",
    "I.sort()\n",
    "n=len(I)\n",
    "count=0\n",
    "for i in range(n):\n",
    "    if I[i]!=0:\n",
    "        I[count]=I[i]\n",
    "        count+=1\n",
    "while count<n:\n",
    "    I[count]=0\n",
    "    count+=1\n",
    "print(I) "
   ]
  },
  {
   "cell_type": "markdown",
   "metadata": {},
   "source": [
    "Assignment 2"
   ]
  },
  {
   "cell_type": "markdown",
   "metadata": {},
   "source": [
    "Sorted List List 1 = [10,20,40,60,70,80], List 2=[5,15,25,35,45,60]"
   ]
  },
  {
   "cell_type": "markdown",
   "metadata": {},
   "source": [
    "Merge these and sort with only one for loop without using sort()"
   ]
  },
  {
   "cell_type": "code",
   "execution_count": 26,
   "metadata": {},
   "outputs": [
    {
     "name": "stdout",
     "output_type": "stream",
     "text": [
      "[5, 10, 15, 20, 25, 35, 40, 45, 60, 60, 70, 80]\n"
     ]
    }
   ],
   "source": [
    "list1=[10,20,40,60,70,80]\n",
    "list2=[5,15,25,35,45,60]\n",
    "list3=[]\n",
    "j=0\n",
    "i=0\n",
    "while i<len(list1) and j<len(list2):\n",
    "    if list1[i]<=list2[j]:\n",
    "        list3.append(list1[i])\n",
    "        i+=1\n",
    "    else:\n",
    "        list3.append(list2[j])\n",
    "        j+=1\n",
    "\n",
    "remained =list1[i:]+list2[j:]\n",
    "list3=list3+remained\n",
    "print(list3)\n",
    "        "
   ]
  }
 ],
 "metadata": {
  "kernelspec": {
   "display_name": "Python 3",
   "language": "python",
   "name": "python3"
  },
  "language_info": {
   "codemirror_mode": {
    "name": "ipython",
    "version": 3
   },
   "file_extension": ".py",
   "mimetype": "text/x-python",
   "name": "python",
   "nbconvert_exporter": "python",
   "pygments_lexer": "ipython3",
   "version": "3.7.6"
  }
 },
 "nbformat": 4,
 "nbformat_minor": 4
}
